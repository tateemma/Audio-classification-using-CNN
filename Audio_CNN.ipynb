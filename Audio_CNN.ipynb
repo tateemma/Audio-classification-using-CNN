{
  "nbformat": 4,
  "nbformat_minor": 0,
  "metadata": {
    "colab": {
      "name": "Audio CNN.ipynb",
      "provenance": [],
      "collapsed_sections": [],
      "include_colab_link": true
    },
    "kernelspec": {
      "name": "python3",
      "display_name": "Python 3"
    },
    "accelerator": "GPU"
  },
  "cells": [
    {
      "cell_type": "markdown",
      "metadata": {
        "id": "view-in-github",
        "colab_type": "text"
      },
      "source": [
        "<a href=\"https://colab.research.google.com/github/tateemma/Audio-classification-using-CNN/blob/master/Audio_CNN.ipynb\" target=\"_parent\"><img src=\"https://colab.research.google.com/assets/colab-badge.svg\" alt=\"Open In Colab\"/></a>"
      ]
    },
    {
      "cell_type": "markdown",
      "metadata": {
        "id": "APi2ts7DT791",
        "colab_type": "text"
      },
      "source": [
        "**Credits:** This was achieved through the help of Dr. Emmanuel Dufourq, for a presentation in his Data Science class."
      ]
    },
    {
      "cell_type": "markdown",
      "metadata": {
        "id": "dN_ekw71qVaA",
        "colab_type": "text"
      },
      "source": [
        "## Imports"
      ]
    },
    {
      "cell_type": "code",
      "metadata": {
        "id": "JPOpM24ySGr3",
        "colab_type": "code",
        "colab": {
          "base_uri": "https://localhost:8080/",
          "height": 34
        },
        "outputId": "37252ca2-992e-49b8-ff2a-6b3734923e4e"
      },
      "source": [
        "import pandas as pd\n",
        "import numpy as np\n",
        "import matplotlib.pyplot as plt\n",
        "import librosa\n",
        "import librosa.display\n",
        "from os import listdir\n",
        "from sklearn.model_selection import train_test_split\n",
        "import keras\n",
        "from keras.utils import to_categorical\n",
        "from keras.models import Sequential\n",
        "from keras.layers import Dense, Dropout, Flatten, Conv2D,  MaxPooling2D \n",
        "from sklearn.metrics import accuracy_score, confusion_matrix\n",
        "from keras.callbacks import ModelCheckpoint\n",
        "import IPython.display as ipd\n",
        "\n",
        "from pydrive.auth import GoogleAuth\n",
        "from pydrive.drive import GoogleDrive\n",
        "from google.colab import auth\n",
        "from oauth2client.client import GoogleCredentials\n",
        "import zipfile, os\n",
        "\n",
        "%tensorflow_version 1.x\n",
        "import tensorflow as tf\n",
        "#print(tf.__version__)"
      ],
      "execution_count": null,
      "outputs": [
        {
          "output_type": "stream",
          "text": [
            "TensorFlow is already loaded. Please restart the runtime to change versions.\n"
          ],
          "name": "stdout"
        }
      ]
    },
    {
      "cell_type": "markdown",
      "metadata": {
        "id": "p2HAEaApVfhQ",
        "colab_type": "text"
      },
      "source": [
        "## Authenticate to your Google Drive"
      ]
    },
    {
      "cell_type": "code",
      "metadata": {
        "id": "iqdmd0PxUcqg",
        "colab_type": "code",
        "colab": {}
      },
      "source": [
        "auth.authenticate_user()\n",
        "gauth = GoogleAuth()\n",
        "gauth.credentials = GoogleCredentials.get_application_default()\n",
        "drive = GoogleDrive(gauth)"
      ],
      "execution_count": null,
      "outputs": []
    },
    {
      "cell_type": "code",
      "metadata": {
        "id": "waT8ATufvOuo",
        "colab_type": "code",
        "colab": {}
      },
      "source": [
        ""
      ],
      "execution_count": null,
      "outputs": []
    },
    {
      "cell_type": "markdown",
      "metadata": {
        "id": "W8HSVC22Vixo",
        "colab_type": "text"
      },
      "source": [
        "## Download the archive file which will be uncompressed to your Drive\n",
        "\n",
        "This snippet of code will uncompress the files into a temporary folder location. In this case it is called `local_location`. We need to be consistent with names as when reading the data we will need to specify this folder name."
      ]
    },
    {
      "cell_type": "code",
      "metadata": {
        "id": "FAtlf6QEUoof",
        "colab_type": "code",
        "colab": {
          "base_uri": "https://localhost:8080/",
          "height": 34
        },
        "outputId": "5e54cbf8-027f-4880-adaa-a6855969636f"
      },
      "source": [
        "myzip = drive.CreateFile({'id': '1wKDQrkcMGpEmGh_14Itja3ZkR7OX38s2'})\n",
        "myzip.GetContentFile('Archive.zip')\n",
        "\n",
        "print (\"Uncompressing zip file\")\n",
        "zip_ref = zipfile.ZipFile('Archive.zip', 'r')\n",
        "zip_ref.extractall('local_location/')"
      ],
      "execution_count": null,
      "outputs": [
        {
          "output_type": "stream",
          "text": [
            "Uncompressing zip file\n"
          ],
          "name": "stdout"
        }
      ]
    },
    {
      "cell_type": "markdown",
      "metadata": {
        "id": "abimdWMiRiCU",
        "colab_type": "text"
      },
      "source": [
        "## Function to extract features and targets from a directory"
      ]
    },
    {
      "cell_type": "code",
      "metadata": {
        "id": "ApsWi7lZRiCV",
        "colab_type": "code",
        "colab": {}
      },
      "source": [
        "def extract_data_from_multiple_files(directory, label):\n",
        "    \n",
        "    # Directory listing\n",
        "    file_names = load_data(directory)\n",
        "    \n",
        "    # Create empty list to store features and target\n",
        "    X = []\n",
        "    Y = []\n",
        "    \n",
        "    num_files = len(file_names)\n",
        "    \n",
        "    # Iterate over the .wav files\n",
        "    for idx, file in enumerate(file_names):\n",
        "\n",
        "        if idx%100 == 0:\n",
        "            print (str(idx)+str(' files read out of ') + str(num_files))\n",
        "            \n",
        "        # Extract data from one audio file\n",
        "        data, sample_rate = librosa.load(directory+file)\n",
        "        \n",
        "        if len(data) == 22050:\n",
        "        \n",
        "            # Append the features and target\n",
        "            X.append(data)\n",
        "            Y.append(label)\n",
        "        \n",
        "    # Return the features and target as a Numpy array\n",
        "    return np.array(X), np.array(Y)"
      ],
      "execution_count": null,
      "outputs": []
    },
    {
      "cell_type": "markdown",
      "metadata": {
        "id": "XDa1mWN3RiCL",
        "colab_type": "text"
      },
      "source": [
        "## Function to get a list of .wav files\n",
        "\n",
        "This function gets a list of all the files containing '.wav' in the file name."
      ]
    },
    {
      "cell_type": "code",
      "metadata": {
        "id": "s5TNAIAYRiCN",
        "colab_type": "code",
        "colab": {}
      },
      "source": [
        "def load_data(directory):\n",
        "    \n",
        "    file_names = []\n",
        "    \n",
        "    # Iterate through each file in the directory\n",
        "    for file in listdir(directory):\n",
        "        # Check file name contains .wav\n",
        "        if '.wav' in file:\n",
        "            # Append the file name\n",
        "            file_names.append(file)\n",
        "            \n",
        "    return file_names"
      ],
      "execution_count": null,
      "outputs": []
    },
    {
      "cell_type": "code",
      "metadata": {
        "id": "XntoWXTxEQkZ",
        "colab_type": "code",
        "colab": {
          "base_uri": "https://localhost:8080/",
          "height": 34
        },
        "outputId": "64a1e4c8-f579-4058-d8d2-15b584f532f3"
      },
      "source": [
        "listdir('local_location')"
      ],
      "execution_count": null,
      "outputs": [
        {
          "output_type": "execute_result",
          "data": {
            "text/plain": [
              "['bird', 'dog', 'on', '__MACOSX', 'off']"
            ]
          },
          "metadata": {
            "tags": []
          },
          "execution_count": 326
        }
      ]
    },
    {
      "cell_type": "markdown",
      "metadata": {
        "id": "jdFSk3T3VI_x",
        "colab_type": "text"
      },
      "source": [
        "## Load all the `dog` files into memory\n",
        "\n",
        "Roughly 6.5 minute operation"
      ]
    },
    {
      "cell_type": "code",
      "metadata": {
        "id": "Rtwn-a_gRiBC",
        "colab_type": "code",
        "colab": {
          "base_uri": "https://localhost:8080/",
          "height": 330
        },
        "outputId": "51f2607b-4d5a-40dd-eac3-05e88b29f297"
      },
      "source": [
        "X_dog, Y_dog = extract_data_from_multiple_files('local_location/dog/', 'dog')"
      ],
      "execution_count": null,
      "outputs": [
        {
          "output_type": "stream",
          "text": [
            "0 files read out of 1746\n",
            "100 files read out of 1746\n",
            "200 files read out of 1746\n",
            "300 files read out of 1746\n",
            "400 files read out of 1746\n",
            "500 files read out of 1746\n",
            "600 files read out of 1746\n",
            "700 files read out of 1746\n",
            "800 files read out of 1746\n",
            "900 files read out of 1746\n",
            "1000 files read out of 1746\n",
            "1100 files read out of 1746\n",
            "1200 files read out of 1746\n",
            "1300 files read out of 1746\n",
            "1400 files read out of 1746\n",
            "1500 files read out of 1746\n",
            "1600 files read out of 1746\n",
            "1700 files read out of 1746\n"
          ],
          "name": "stdout"
        }
      ]
    },
    {
      "cell_type": "markdown",
      "metadata": {
        "id": "N_RI8HElXSRr",
        "colab_type": "text"
      },
      "source": [
        "## Load all the `bird` files into memory\n",
        "\n",
        "Roughly 5 minute operation"
      ]
    },
    {
      "cell_type": "code",
      "metadata": {
        "id": "uPAUrJrpRiBI",
        "colab_type": "code",
        "colab": {
          "base_uri": "https://localhost:8080/",
          "height": 330
        },
        "outputId": "6ef16120-90b4-4b11-8a96-b3464bc24c94"
      },
      "source": [
        "X_bird, Y_bird = extract_data_from_multiple_files('local_location/bird/', 'bird')"
      ],
      "execution_count": null,
      "outputs": [
        {
          "output_type": "stream",
          "text": [
            "0 files read out of 1731\n",
            "100 files read out of 1731\n",
            "200 files read out of 1731\n",
            "300 files read out of 1731\n",
            "400 files read out of 1731\n",
            "500 files read out of 1731\n",
            "600 files read out of 1731\n",
            "700 files read out of 1731\n",
            "800 files read out of 1731\n",
            "900 files read out of 1731\n",
            "1000 files read out of 1731\n",
            "1100 files read out of 1731\n",
            "1200 files read out of 1731\n",
            "1300 files read out of 1731\n",
            "1400 files read out of 1731\n",
            "1500 files read out of 1731\n",
            "1600 files read out of 1731\n",
            "1700 files read out of 1731\n"
          ],
          "name": "stdout"
        }
      ]
    },
    {
      "cell_type": "markdown",
      "metadata": {
        "id": "9WJHpEDKYsxz",
        "colab_type": "text"
      },
      "source": [
        "## Create X and Y variables"
      ]
    },
    {
      "cell_type": "code",
      "metadata": {
        "id": "TlKlth-aRiBW",
        "colab_type": "code",
        "colab": {}
      },
      "source": [
        "X_audio = np.concatenate([X_dog, X_bird])"
      ],
      "execution_count": null,
      "outputs": []
    },
    {
      "cell_type": "code",
      "metadata": {
        "id": "HzS8OLmVRiBZ",
        "colab_type": "code",
        "colab": {}
      },
      "source": [
        "Y_audio = np.concatenate([Y_dog, Y_bird])"
      ],
      "execution_count": null,
      "outputs": []
    },
    {
      "cell_type": "markdown",
      "metadata": {
        "id": "9ij0e_BRYxw4",
        "colab_type": "text"
      },
      "source": [
        "## Check shape"
      ]
    },
    {
      "cell_type": "code",
      "metadata": {
        "id": "IFg8rfrzRiBd",
        "colab_type": "code",
        "colab": {
          "base_uri": "https://localhost:8080/",
          "height": 34
        },
        "outputId": "ebe4780f-9404-45c4-e056-1312deef2291"
      },
      "source": [
        "X_audio.shape"
      ],
      "execution_count": null,
      "outputs": [
        {
          "output_type": "execute_result",
          "data": {
            "text/plain": [
              "(3068, 22050)"
            ]
          },
          "metadata": {
            "tags": []
          },
          "execution_count": 331
        }
      ]
    },
    {
      "cell_type": "code",
      "metadata": {
        "id": "2PwVxpceRiBi",
        "colab_type": "code",
        "colab": {
          "base_uri": "https://localhost:8080/",
          "height": 34
        },
        "outputId": "0fb1fde9-8ad9-4c8e-abb0-a247fa29306c"
      },
      "source": [
        "Y_audio.shape"
      ],
      "execution_count": null,
      "outputs": [
        {
          "output_type": "execute_result",
          "data": {
            "text/plain": [
              "(3068,)"
            ]
          },
          "metadata": {
            "tags": []
          },
          "execution_count": 332
        }
      ]
    },
    {
      "cell_type": "markdown",
      "metadata": {
        "id": "ILSk24kCaKqq",
        "colab_type": "text"
      },
      "source": [
        "### View one audio before converting to spectrogram"
      ]
    },
    {
      "cell_type": "code",
      "metadata": {
        "id": "nLbcY4oWZ2Re",
        "colab_type": "code",
        "colab": {
          "base_uri": "https://localhost:8080/",
          "height": 606
        },
        "outputId": "097be0fd-ef49-42f4-c125-24f7cf75d85b"
      },
      "source": [
        "plt.figure(figsize=[12,10])\n",
        "plt.plot(X_audio[2], label = 'audio')\n",
        "plt.xlabel('time')\n",
        "plt.legend()\n",
        "plt.show()"
      ],
      "execution_count": null,
      "outputs": [
        {
          "output_type": "display_data",
          "data": {
            "image/png": "[encoded data removed]",
            "text/plain": [
              "<Figure size 864x720 with 1 Axes>"
            ]
          },
          "metadata": {
            "tags": [],
            "needs_background": "light"
          }
        }
      ]
    },
    {
      "cell_type": "markdown",
      "metadata": {
        "id": "jF99iNnE9iV8",
        "colab_type": "text"
      },
      "source": [
        "## Function to convert to spectograms"
      ]
    },
    {
      "cell_type": "code",
      "metadata": {
        "id": "1Yi95X8Py9jW",
        "colab_type": "code",
        "colab": {}
      },
      "source": [
        "def to_spectogram(arr):\n",
        "    result = []\n",
        "    n_fft = 1024\n",
        "    hop_length = 256\n",
        "    n_mels = 128\n",
        "    f_min = 1\n",
        "    f_max = 200\n",
        "    for audio in arr:\n",
        "        audio_data = audio\n",
        "        S = librosa.feature.melspectrogram(audio_data, n_fft=n_fft, hop_length=hop_length, n_mels=n_mels, sr=22050, power=1.0)\n",
        "        result.append(S)\n",
        "    return np.asarray(result)"
      ],
      "execution_count": null,
      "outputs": []
    },
    {
      "cell_type": "markdown",
      "metadata": {
        "id": "IBdsRo_U_OJz",
        "colab_type": "text"
      },
      "source": [
        "## Convert to spectogram"
      ]
    },
    {
      "cell_type": "code",
      "metadata": {
        "id": "PKR02Bnz_Ncw",
        "colab_type": "code",
        "colab": {}
      },
      "source": [
        "X = to_spectogram(X_audio)\n"
      ],
      "execution_count": null,
      "outputs": []
    },
    {
      "cell_type": "code",
      "metadata": {
        "id": "cErmuxVFEUy2",
        "colab_type": "code",
        "colab": {
          "base_uri": "https://localhost:8080/",
          "height": 243
        },
        "outputId": "43705772-bb07-4306-fd01-5feaa0b34632"
      },
      "source": [
        "X[1]"
      ],
      "execution_count": null,
      "outputs": [
        {
          "output_type": "execute_result",
          "data": {
            "text/plain": [
              "array([[2.32544456e-03, 2.72360039e-03, 4.11621309e-03, ...,\n",
              "        5.46527729e-03, 1.25402567e-02, 2.76845667e-02],\n",
              "       [3.21537979e-03, 6.96963749e-03, 6.48510106e-03, ...,\n",
              "        1.13412359e-02, 1.11483232e-02, 2.84082312e-02],\n",
              "       [3.76729100e-03, 8.79417494e-03, 8.13232321e-03, ...,\n",
              "        1.36855477e-02, 1.65512174e-02, 3.80918482e-02],\n",
              "       ...,\n",
              "       [1.91557317e-05, 9.57779616e-06, 3.18575717e-10, ...,\n",
              "        5.57009058e-09, 1.14142413e-04, 2.82835264e-04],\n",
              "       [1.89228813e-05, 9.46137332e-06, 3.35173024e-10, ...,\n",
              "        4.07747334e-09, 1.12505953e-04, 2.78780114e-04],\n",
              "       [1.87760773e-05, 9.38797389e-06, 4.20877338e-10, ...,\n",
              "        4.59671549e-09, 1.11484572e-04, 2.76249222e-04]])"
            ]
          },
          "metadata": {
            "tags": []
          },
          "execution_count": 336
        }
      ]
    },
    {
      "cell_type": "markdown",
      "metadata": {
        "id": "Z8AVIs2L-XWW",
        "colab_type": "text"
      },
      "source": [
        "## View X after changing to spectograms"
      ]
    },
    {
      "cell_type": "code",
      "metadata": {
        "id": "lBd3lcZNy-Bo",
        "colab_type": "code",
        "colab": {
          "base_uri": "https://localhost:8080/",
          "height": 34
        },
        "outputId": "6dd7f3a6-13e9-483b-b5ac-57837ea8b41f"
      },
      "source": [
        "X[2].shape"
      ],
      "execution_count": null,
      "outputs": [
        {
          "output_type": "execute_result",
          "data": {
            "text/plain": [
              "(128, 87)"
            ]
          },
          "metadata": {
            "tags": []
          },
          "execution_count": 337
        }
      ]
    },
    {
      "cell_type": "code",
      "metadata": {
        "id": "RUhjij_VIvtI",
        "colab_type": "code",
        "colab": {
          "base_uri": "https://localhost:8080/",
          "height": 34
        },
        "outputId": "e7749a39-f87a-4fcb-8fe3-0cb586c37b60"
      },
      "source": [
        "type(X)"
      ],
      "execution_count": null,
      "outputs": [
        {
          "output_type": "execute_result",
          "data": {
            "text/plain": [
              "numpy.ndarray"
            ]
          },
          "metadata": {
            "tags": []
          },
          "execution_count": 338
        }
      ]
    },
    {
      "cell_type": "code",
      "metadata": {
        "id": "GoylwXoxAgUI",
        "colab_type": "code",
        "colab": {
          "base_uri": "https://localhost:8080/",
          "height": 34
        },
        "outputId": "647d9e80-335f-4c33-ea4c-460dab7d62af"
      },
      "source": [
        "X.shape"
      ],
      "execution_count": null,
      "outputs": [
        {
          "output_type": "execute_result",
          "data": {
            "text/plain": [
              "(3068, 128, 87)"
            ]
          },
          "metadata": {
            "tags": []
          },
          "execution_count": 339
        }
      ]
    },
    {
      "cell_type": "markdown",
      "metadata": {
        "id": "fAdDAgyH-fjm",
        "colab_type": "text"
      },
      "source": [
        "## Plot sample spectograms"
      ]
    },
    {
      "cell_type": "code",
      "metadata": {
        "id": "Htr8BWX2y-cR",
        "colab_type": "code",
        "colab": {
          "base_uri": "https://localhost:8080/",
          "height": 309
        },
        "outputId": "79c0a196-ca9d-46eb-c90d-84320ea594fc"
      },
      "source": [
        "plt.figure(figsize=[7,5])\n",
        "ax = plt.axes()\n",
        "librosa.display.specshow(librosa.power_to_db(X[2]),y_axis='mel')\n",
        "plt.show()"
      ],
      "execution_count": null,
      "outputs": [
        {
          "output_type": "display_data",
          "data": {
            "image/png": "[encoded data removed]",
            "text/plain": [
              "<Figure size 504x360 with 1 Axes>"
            ]
          },
          "metadata": {
            "tags": [],
            "needs_background": "light"
          }
        }
      ]
    },
    {
      "cell_type": "code",
      "metadata": {
        "id": "Zr4jQoyP8LYt",
        "colab_type": "code",
        "colab": {}
      },
      "source": [
        ""
      ],
      "execution_count": null,
      "outputs": []
    },
    {
      "cell_type": "markdown",
      "metadata": {
        "id": "XNHKE3XwZb-Z",
        "colab_type": "text"
      },
      "source": [
        "## Convert Y values using one-hot encoding\n",
        "\n",
        "First we need to convert the Y values into integers."
      ]
    },
    {
      "cell_type": "code",
      "metadata": {
        "id": "-gpDoo4ZRiCZ",
        "colab_type": "code",
        "colab": {}
      },
      "source": [
        "vocab, inv = np.unique(Y_audio, return_inverse=True)"
      ],
      "execution_count": null,
      "outputs": []
    },
    {
      "cell_type": "code",
      "metadata": {
        "id": "usUHObs0RiCX",
        "colab_type": "code",
        "colab": {
          "base_uri": "https://localhost:8080/",
          "height": 34
        },
        "outputId": "23e5bee3-a20c-46d9-c511-2f3408979dd7"
      },
      "source": [
        "vocab"
      ],
      "execution_count": null,
      "outputs": [
        {
          "output_type": "execute_result",
          "data": {
            "text/plain": [
              "array(['bird', 'dog'], dtype='<U4')"
            ]
          },
          "metadata": {
            "tags": []
          },
          "execution_count": 342
        }
      ]
    },
    {
      "cell_type": "code",
      "metadata": {
        "id": "4AISbGhCRiCf",
        "colab_type": "code",
        "colab": {}
      },
      "source": [
        "Y = to_categorical(inv)"
      ],
      "execution_count": null,
      "outputs": []
    },
    {
      "cell_type": "markdown",
      "metadata": {
        "id": "fsAqZtvOZktB",
        "colab_type": "text"
      },
      "source": [
        "## Reshape X values\n",
        "Keras wants to know the depth of the spectrum, i.e. it wants the format of the data as follows: [batches, width, height, depth]."
      ]
    },
    {
      "cell_type": "code",
      "metadata": {
        "id": "vPVPXZBsRiCc",
        "colab_type": "code",
        "colab": {}
      },
      "source": [
        "X = np.reshape(X, (X.shape[0],X.shape[1],X.shape[2],1))"
      ],
      "execution_count": null,
      "outputs": []
    },
    {
      "cell_type": "code",
      "metadata": {
        "colab_type": "code",
        "id": "VdA2VlHqO1TZ",
        "colab": {}
      },
      "source": [
        "#Y = to_categorical(inv)"
      ],
      "execution_count": null,
      "outputs": []
    },
    {
      "cell_type": "markdown",
      "metadata": {
        "id": "tXLWEAcdZ1S7",
        "colab_type": "text"
      },
      "source": [
        "## Check shape"
      ]
    },
    {
      "cell_type": "code",
      "metadata": {
        "id": "MpLMzMURRiCi",
        "colab_type": "code",
        "colab": {
          "base_uri": "https://localhost:8080/",
          "height": 34
        },
        "outputId": "10d173ec-fdf7-492d-d5ad-9557d40d1e18"
      },
      "source": [
        "X.shape"
      ],
      "execution_count": null,
      "outputs": [
        {
          "output_type": "execute_result",
          "data": {
            "text/plain": [
              "(3068, 128, 87, 1)"
            ]
          },
          "metadata": {
            "tags": []
          },
          "execution_count": 346
        }
      ]
    },
    {
      "cell_type": "code",
      "metadata": {
        "id": "HlkpPSpuRiCs",
        "colab_type": "code",
        "colab": {
          "base_uri": "https://localhost:8080/",
          "height": 34
        },
        "outputId": "bc4d32f4-2a01-4165-feca-2b271d61b6fb"
      },
      "source": [
        "Y.shape"
      ],
      "execution_count": null,
      "outputs": [
        {
          "output_type": "execute_result",
          "data": {
            "text/plain": [
              "(3068, 2)"
            ]
          },
          "metadata": {
            "tags": []
          },
          "execution_count": 347
        }
      ]
    },
    {
      "cell_type": "markdown",
      "metadata": {
        "id": "ZFC4ycJmZ2tU",
        "colab_type": "text"
      },
      "source": [
        "## Split into training, validation and testing"
      ]
    },
    {
      "cell_type": "code",
      "metadata": {
        "id": "0TlUcGy4RiCu",
        "colab_type": "code",
        "colab": {}
      },
      "source": [
        "X_train, X_test, Y_train, Y_test = train_test_split(X, Y, test_size=0.35, random_state=42, shuffle=True)\n",
        "X_train, X_val, Y_train, Y_val = train_test_split(X_train, Y_train, test_size=0.4, random_state=42)"
      ],
      "execution_count": null,
      "outputs": []
    },
    {
      "cell_type": "markdown",
      "metadata": {
        "id": "ygUKZvrlZ4zA",
        "colab_type": "text"
      },
      "source": [
        "## Check shape"
      ]
    },
    {
      "cell_type": "code",
      "metadata": {
        "id": "vqgfBhknRiCw",
        "colab_type": "code",
        "colab": {
          "base_uri": "https://localhost:8080/",
          "height": 156
        },
        "outputId": "51722452-1993-409e-909a-794ea92c2ffe"
      },
      "source": [
        "print ('X_train:',X_train.shape)\n",
        "print ('Y_train:',Y_train.shape)\n",
        "print ()\n",
        "print ('X_val:',X_val.shape)\n",
        "print ('Y_val:',Y_val.shape)\n",
        "print ()\n",
        "print ('X_test:',X_test.shape)\n",
        "print ('Y_test:',Y_test.shape)"
      ],
      "execution_count": null,
      "outputs": [
        {
          "output_type": "stream",
          "text": [
            "X_train: (1196, 128, 87, 1)\n",
            "Y_train: (1196, 2)\n",
            "\n",
            "X_val: (798, 128, 87, 1)\n",
            "Y_val: (798, 2)\n",
            "\n",
            "X_test: (1074, 128, 87, 1)\n",
            "Y_test: (1074, 2)\n"
          ],
          "name": "stdout"
        }
      ]
    },
    {
      "cell_type": "markdown",
      "metadata": {
        "id": "IrXoKha3Z_jU",
        "colab_type": "text"
      },
      "source": [
        "## Define a model"
      ]
    },
    {
      "cell_type": "code",
      "metadata": {
        "id": "LJi88Vi2RiCy",
        "colab_type": "code",
        "colab": {}
      },
      "source": [
        "def model():\n",
        "    model = Sequential()\n",
        "    \n",
        "    model.add(Conv2D(filters=32, kernel_size=3, padding='valid', activation='relu', input_shape=(128, 87, 1))) \n",
        "    \n",
        "    model.add(MaxPooling2D(pool_size=2))\n",
        "\n",
        "    model.add(Dropout(rate = 0.8))\n",
        "    \n",
        "    model.add(Flatten())\n",
        "    \n",
        "    model.add(Dense(50, activation='relu'))\n",
        "    \n",
        "    model.add(Dropout(rate = 0.8))\n",
        "    \n",
        "    model.add(Dense(2, activation='softmax'))\n",
        "    \n",
        "    return model"
      ],
      "execution_count": null,
      "outputs": []
    },
    {
      "cell_type": "code",
      "metadata": {
        "id": "gbcZLP8tRiC0",
        "colab_type": "code",
        "colab": {}
      },
      "source": [
        "model = model()"
      ],
      "execution_count": null,
      "outputs": []
    },
    {
      "cell_type": "markdown",
      "metadata": {
        "id": "g6-PhXC9aBqY",
        "colab_type": "text"
      },
      "source": [
        "## Compile"
      ]
    },
    {
      "cell_type": "code",
      "metadata": {
        "id": "y4qj0ZW2RiC2",
        "colab_type": "code",
        "colab": {}
      },
      "source": [
        "model.compile(loss='categorical_crossentropy', optimizer='adam',metrics=['accuracy'])"
      ],
      "execution_count": null,
      "outputs": []
    },
    {
      "cell_type": "markdown",
      "metadata": {
        "id": "2486W0DKaCjn",
        "colab_type": "text"
      },
      "source": [
        "## Print out the model summary"
      ]
    },
    {
      "cell_type": "code",
      "metadata": {
        "id": "j0Uc5qthRiC4",
        "colab_type": "code",
        "colab": {
          "base_uri": "https://localhost:8080/",
          "height": 399
        },
        "outputId": "27afc197-14ea-439a-ef9b-92820c490d42"
      },
      "source": [
        "model.summary()"
      ],
      "execution_count": null,
      "outputs": [
        {
          "output_type": "stream",
          "text": [
            "Model: \"sequential_6\"\n",
            "_________________________________________________________________\n",
            "Layer (type)                 Output Shape              Param #   \n",
            "=================================================================\n",
            "conv2d_6 (Conv2D)            (None, 126, 85, 32)       320       \n",
            "_________________________________________________________________\n",
            "max_pooling2d_6 (MaxPooling2 (None, 63, 42, 32)        0         \n",
            "_________________________________________________________________\n",
            "dropout_12 (Dropout)         (None, 63, 42, 32)        0         \n",
            "_________________________________________________________________\n",
            "flatten_6 (Flatten)          (None, 84672)             0         \n",
            "_________________________________________________________________\n",
            "dense_12 (Dense)             (None, 50)                4233650   \n",
            "_________________________________________________________________\n",
            "dropout_13 (Dropout)         (None, 50)                0         \n",
            "_________________________________________________________________\n",
            "dense_13 (Dense)             (None, 2)                 102       \n",
            "=================================================================\n",
            "Total params: 4,234,072\n",
            "Trainable params: 4,234,072\n",
            "Non-trainable params: 0\n",
            "_________________________________________________________________\n"
          ],
          "name": "stdout"
        }
      ]
    },
    {
      "cell_type": "markdown",
      "metadata": {
        "id": "sezhtscwaEdn",
        "colab_type": "text"
      },
      "source": [
        "## Create checkpoint\n",
        "\n",
        "Here we create a checkpoint so that Keras will save the weights of the next best model. In this case, an improvement in validation accuracy is what it will consider as next best."
      ]
    },
    {
      "cell_type": "code",
      "metadata": {
        "id": "l5cnj4o_RiC7",
        "colab_type": "code",
        "colab": {}
      },
      "source": [
        "filepath=\"weights.best\"\n",
        "checkpoint = ModelCheckpoint(filepath, monitor='val_accuracy',verbose=1, save_best_only=True, mode='max')\n",
        "callbacks_list = [checkpoint]"
      ],
      "execution_count": null,
      "outputs": []
    },
    {
      "cell_type": "markdown",
      "metadata": {
        "id": "n701v_PcaPfZ",
        "colab_type": "text"
      },
      "source": [
        "## Train the model\n",
        "\n",
        "Notice here, we can specify a class balance!"
      ]
    },
    {
      "cell_type": "code",
      "metadata": {
        "scrolled": true,
        "id": "UG4JqEMGRiC8",
        "colab_type": "code",
        "colab": {
          "base_uri": "https://localhost:8080/",
          "height": 1000
        },
        "outputId": "0a2b149d-cc9a-4824-87d6-f0f1cbc53259"
      },
      "source": [
        "history = model.fit(X_train, Y_train, validation_data=(X_val, Y_val), \n",
        "          batch_size=4,\n",
        "          epochs=20,\n",
        "          verbose=1, \n",
        "          callbacks=callbacks_list,\n",
        "          class_weight={0:1.,1:1.0})"
      ],
      "execution_count": null,
      "outputs": [
        {
          "output_type": "stream",
          "text": [
            "Epoch 1/20\n",
            "298/299 [============================>.] - ETA: 0s - loss: 0.5968 - accuracy: 0.7114\n",
            "Epoch 00001: val_accuracy improved from -inf to 0.93358, saving model to weights.best\n",
            "INFO:tensorflow:Assets written to: weights.best/assets\n",
            "299/299 [==============================] - 2s 8ms/step - loss: 0.5962 - accuracy: 0.7115 - val_loss: 0.3023 - val_accuracy: 0.9336\n",
            "Epoch 2/20\n",
            "287/299 [===========================>..] - ETA: 0s - loss: 0.3971 - accuracy: 0.8580\n",
            "Epoch 00002: val_accuracy improved from 0.93358 to 0.94737, saving model to weights.best\n",
            "INFO:tensorflow:Assets written to: weights.best/assets\n",
            "299/299 [==============================] - 2s 7ms/step - loss: 0.3958 - accuracy: 0.8579 - val_loss: 0.2630 - val_accuracy: 0.9474\n",
            "Epoch 3/20\n",
            "287/299 [===========================>..] - ETA: 0s - loss: 0.3413 - accuracy: 0.8772\n",
            "Epoch 00003: val_accuracy improved from 0.94737 to 0.94987, saving model to weights.best\n",
            "INFO:tensorflow:Assets written to: weights.best/assets\n",
            "299/299 [==============================] - 2s 7ms/step - loss: 0.3463 - accuracy: 0.8704 - val_loss: 0.2208 - val_accuracy: 0.9499\n",
            "Epoch 4/20\n",
            "293/299 [============================>.] - ETA: 0s - loss: 0.3236 - accuracy: 0.8848\n",
            "Epoch 00004: val_accuracy improved from 0.94987 to 0.95865, saving model to weights.best\n",
            "INFO:tensorflow:Assets written to: weights.best/assets\n",
            "299/299 [==============================] - 2s 7ms/step - loss: 0.3219 - accuracy: 0.8855 - val_loss: 0.2066 - val_accuracy: 0.9586\n",
            "Epoch 5/20\n",
            "290/299 [============================>.] - ETA: 0s - loss: 0.2998 - accuracy: 0.9060\n",
            "Epoch 00005: val_accuracy did not improve from 0.95865\n",
            "299/299 [==============================] - 1s 5ms/step - loss: 0.2984 - accuracy: 0.9064 - val_loss: 0.2301 - val_accuracy: 0.9398\n",
            "Epoch 6/20\n",
            "290/299 [============================>.] - ETA: 0s - loss: 0.3002 - accuracy: 0.9043\n",
            "Epoch 00006: val_accuracy did not improve from 0.95865\n",
            "299/299 [==============================] - 1s 5ms/step - loss: 0.2967 - accuracy: 0.9055 - val_loss: 0.2297 - val_accuracy: 0.9361\n",
            "Epoch 7/20\n",
            "297/299 [============================>.] - ETA: 0s - loss: 0.2516 - accuracy: 0.9242\n",
            "Epoch 00007: val_accuracy improved from 0.95865 to 0.95990, saving model to weights.best\n",
            "INFO:tensorflow:Assets written to: weights.best/assets\n",
            "299/299 [==============================] - 2s 8ms/step - loss: 0.2597 - accuracy: 0.9222 - val_loss: 0.2254 - val_accuracy: 0.9599\n",
            "Epoch 8/20\n",
            "289/299 [===========================>..] - ETA: 0s - loss: 0.2816 - accuracy: 0.9057\n",
            "Epoch 00008: val_accuracy did not improve from 0.95990\n",
            "299/299 [==============================] - 1s 5ms/step - loss: 0.2789 - accuracy: 0.9072 - val_loss: 0.2198 - val_accuracy: 0.9511\n",
            "Epoch 9/20\n",
            "289/299 [===========================>..] - ETA: 0s - loss: 0.2774 - accuracy: 0.9178\n",
            "Epoch 00009: val_accuracy did not improve from 0.95990\n",
            "299/299 [==============================] - 1s 5ms/step - loss: 0.2904 - accuracy: 0.9139 - val_loss: 0.2392 - val_accuracy: 0.9536\n",
            "Epoch 10/20\n",
            "296/299 [============================>.] - ETA: 0s - loss: 0.2460 - accuracy: 0.9240\n",
            "Epoch 00010: val_accuracy improved from 0.95990 to 0.96115, saving model to weights.best\n",
            "INFO:tensorflow:Assets written to: weights.best/assets\n",
            "299/299 [==============================] - 2s 7ms/step - loss: 0.2451 - accuracy: 0.9239 - val_loss: 0.1816 - val_accuracy: 0.9612\n",
            "Epoch 11/20\n",
            "289/299 [===========================>..] - ETA: 0s - loss: 0.2283 - accuracy: 0.9247\n",
            "Epoch 00011: val_accuracy did not improve from 0.96115\n",
            "299/299 [==============================] - 1s 5ms/step - loss: 0.2334 - accuracy: 0.9256 - val_loss: 0.2106 - val_accuracy: 0.9599\n",
            "Epoch 12/20\n",
            "294/299 [============================>.] - ETA: 0s - loss: 0.2346 - accuracy: 0.9328\n",
            "Epoch 00012: val_accuracy did not improve from 0.96115\n",
            "299/299 [==============================] - 1s 5ms/step - loss: 0.2376 - accuracy: 0.9331 - val_loss: 0.2183 - val_accuracy: 0.9449\n",
            "Epoch 13/20\n",
            "292/299 [============================>.] - ETA: 0s - loss: 0.1765 - accuracy: 0.9349\n",
            "Epoch 00013: val_accuracy did not improve from 0.96115\n",
            "299/299 [==============================] - 1s 5ms/step - loss: 0.1740 - accuracy: 0.9356 - val_loss: 0.1979 - val_accuracy: 0.9612\n",
            "Epoch 14/20\n",
            "295/299 [============================>.] - ETA: 0s - loss: 0.2151 - accuracy: 0.9229\n",
            "Epoch 00014: val_accuracy did not improve from 0.96115\n",
            "299/299 [==============================] - 1s 5ms/step - loss: 0.2197 - accuracy: 0.9214 - val_loss: 0.1913 - val_accuracy: 0.9549\n",
            "Epoch 15/20\n",
            "297/299 [============================>.] - ETA: 0s - loss: 0.2123 - accuracy: 0.9360\n",
            "Epoch 00015: val_accuracy did not improve from 0.96115\n",
            "299/299 [==============================] - 1s 5ms/step - loss: 0.2115 - accuracy: 0.9365 - val_loss: 0.2034 - val_accuracy: 0.9461\n",
            "Epoch 16/20\n",
            "293/299 [============================>.] - ETA: 0s - loss: 0.1869 - accuracy: 0.9394\n",
            "Epoch 00016: val_accuracy did not improve from 0.96115\n",
            "299/299 [==============================] - 1s 5ms/step - loss: 0.1877 - accuracy: 0.9381 - val_loss: 0.2140 - val_accuracy: 0.9524\n",
            "Epoch 17/20\n",
            "299/299 [==============================] - ETA: 0s - loss: 0.2276 - accuracy: 0.9373\n",
            "Epoch 00017: val_accuracy did not improve from 0.96115\n",
            "299/299 [==============================] - 1s 5ms/step - loss: 0.2276 - accuracy: 0.9373 - val_loss: 0.1860 - val_accuracy: 0.9574\n",
            "Epoch 18/20\n",
            "288/299 [===========================>..] - ETA: 0s - loss: 0.2345 - accuracy: 0.9349\n",
            "Epoch 00018: val_accuracy did not improve from 0.96115\n",
            "299/299 [==============================] - 1s 5ms/step - loss: 0.2374 - accuracy: 0.9331 - val_loss: 0.2038 - val_accuracy: 0.9511\n",
            "Epoch 19/20\n",
            "288/299 [===========================>..] - ETA: 0s - loss: 0.1606 - accuracy: 0.9401\n",
            "Epoch 00019: val_accuracy did not improve from 0.96115\n",
            "299/299 [==============================] - 2s 5ms/step - loss: 0.1772 - accuracy: 0.9381 - val_loss: 0.2071 - val_accuracy: 0.9511\n",
            "Epoch 20/20\n",
            "287/299 [===========================>..] - ETA: 0s - loss: 0.1826 - accuracy: 0.9399\n",
            "Epoch 00020: val_accuracy did not improve from 0.96115\n",
            "299/299 [==============================] - 1s 5ms/step - loss: 0.1865 - accuracy: 0.9381 - val_loss: 0.1900 - val_accuracy: 0.9549\n"
          ],
          "name": "stdout"
        }
      ]
    },
    {
      "cell_type": "markdown",
      "metadata": {
        "id": "ZpLGQtL_aTtJ",
        "colab_type": "text"
      },
      "source": [
        "## Load the weights of the best model"
      ]
    },
    {
      "cell_type": "code",
      "metadata": {
        "id": "S98z3wE-RiC-",
        "colab_type": "code",
        "colab": {
          "base_uri": "https://localhost:8080/",
          "height": 34
        },
        "outputId": "c25451c5-8c7e-4d85-e784-ce39b74656ae"
      },
      "source": [
        "model.load_weights('weights.best/variables/variables')"
      ],
      "execution_count": null,
      "outputs": [
        {
          "output_type": "execute_result",
          "data": {
            "text/plain": [
              "<tensorflow.python.training.tracking.util.CheckpointLoadStatus at 0x7fe627c7a9b0>"
            ]
          },
          "metadata": {
            "tags": []
          },
          "execution_count": 356
        }
      ]
    },
    {
      "cell_type": "markdown",
      "metadata": {
        "id": "H0GU6sB6fWtm",
        "colab_type": "text"
      },
      "source": [
        "## Evaluating the model\n",
        "\n",
        "On data that was not used during training"
      ]
    },
    {
      "cell_type": "code",
      "metadata": {
        "id": "jFp7T_xoHyAv",
        "colab_type": "code",
        "colab": {}
      },
      "source": [
        "prediction_classes_test = model.predict_classes(X_test)"
      ],
      "execution_count": null,
      "outputs": []
    },
    {
      "cell_type": "markdown",
      "metadata": {
        "colab_type": "text",
        "id": "7LnIZhO0AZ-H"
      },
      "source": [
        "## The confusion matrix"
      ]
    },
    {
      "cell_type": "code",
      "metadata": {
        "colab_type": "code",
        "id": "nB7P53REAZ9u",
        "colab": {
          "base_uri": "https://localhost:8080/",
          "height": 52
        },
        "outputId": "ff194e28-481a-4df6-aa7a-ee9b1b619018"
      },
      "source": [
        "confusion_matrix(np.argmax(Y_test,1), prediction_classes_test)"
      ],
      "execution_count": null,
      "outputs": [
        {
          "output_type": "execute_result",
          "data": {
            "text/plain": [
              "array([[498,  22],\n",
              "       [ 40, 514]])"
            ]
          },
          "metadata": {
            "tags": []
          },
          "execution_count": 358
        }
      ]
    },
    {
      "cell_type": "markdown",
      "metadata": {
        "id": "sJJbCzFxEDLx",
        "colab_type": "text"
      },
      "source": [
        "## Predicting on validation data"
      ]
    },
    {
      "cell_type": "code",
      "metadata": {
        "id": "KFp91RkdEDSX",
        "colab_type": "code",
        "colab": {}
      },
      "source": [
        "prediction_classes_val = model.predict_classes(X_val)"
      ],
      "execution_count": null,
      "outputs": []
    },
    {
      "cell_type": "code",
      "metadata": {
        "id": "M2nkre_t4xn7",
        "colab_type": "code",
        "colab": {
          "base_uri": "https://localhost:8080/",
          "height": 34
        },
        "outputId": "78605d9b-b65b-4b38-b0cc-195bcf3935e1"
      },
      "source": [
        "# view predicted classes\n",
        "prediction_classes_val[0:10]"
      ],
      "execution_count": null,
      "outputs": [
        {
          "output_type": "execute_result",
          "data": {
            "text/plain": [
              "array([0, 1, 0, 1, 0, 1, 1, 0, 0, 1])"
            ]
          },
          "metadata": {
            "tags": []
          },
          "execution_count": 360
        }
      ]
    },
    {
      "cell_type": "markdown",
      "metadata": {
        "colab_type": "text",
        "id": "ko5ajr6b_uWm"
      },
      "source": [
        "## Predicting on training data"
      ]
    },
    {
      "cell_type": "code",
      "metadata": {
        "colab_type": "code",
        "id": "_kiVOcai_uWa",
        "colab": {}
      },
      "source": [
        "prediction_classes_train = model.predict_classes(X_train)"
      ],
      "execution_count": null,
      "outputs": []
    },
    {
      "cell_type": "markdown",
      "metadata": {
        "colab_type": "text",
        "id": "P30kJVfKTvMH"
      },
      "source": [
        "## Computing the accuracy\n"
      ]
    },
    {
      "cell_type": "code",
      "metadata": {
        "colab_type": "code",
        "id": "M_o-FfX8TvMK",
        "colab": {
          "base_uri": "https://localhost:8080/",
          "height": 34
        },
        "outputId": "ca69d36a-e2bf-4e24-f90a-5cac3eb7acfe"
      },
      "source": [
        "test_accuracy = accuracy_score(np.argmax(Y_test,1), prediction_classes_test)\n",
        "train_accuracy = accuracy_score(np.argmax(Y_train,1), prediction_classes_train)\n",
        "val_accuracy = accuracy_score(np.argmax(Y_val,1), prediction_classes_val)\n",
        "print(test_accuracy, train_accuracy, val_accuracy)"
      ],
      "execution_count": null,
      "outputs": [
        {
          "output_type": "stream",
          "text": [
            "0.9422718808193669 0.9623745819397993 0.9611528822055138\n"
          ],
          "name": "stdout"
        }
      ]
    },
    {
      "cell_type": "markdown",
      "metadata": {
        "id": "74HVbElsaATP",
        "colab_type": "text"
      },
      "source": [
        "## Plotting the performance\n"
      ]
    },
    {
      "cell_type": "code",
      "metadata": {
        "id": "-VW19MsALRYe",
        "colab_type": "code",
        "colab": {
          "base_uri": "https://localhost:8080/",
          "height": 513
        },
        "outputId": "7505862c-2acd-4a36-a3fb-1a7eff295635"
      },
      "source": [
        "fig_size = plt.rcParams[\"figure.figsize\"]\n",
        "plt.rcParams[\"figure.figsize\"] = [10, 8]\n",
        "fig, axes = plt.subplots(nrows=1, ncols=1, sharex=True)\n",
        "\n",
        "plt.plot(history.history['accuracy'])\n",
        "plt.plot(history.history['val_accuracy'])\n",
        "plt.title('Training Performance')\n",
        "plt.ylabel('Accuracy')\n",
        "plt.xlabel('Epochs')\n",
        "plt.legend(['Train', 'Validation'], loc='best')\n",
        "\n",
        "plt.draw()\n",
        "plt.show()"
      ],
      "execution_count": null,
      "outputs": [
        {
          "output_type": "display_data",
          "data": {
            "image/png": "[encoded data removed]",
            "text/plain": [
              "<Figure size 720x576 with 1 Axes>"
            ]
          },
          "metadata": {
            "tags": [],
            "needs_background": "light"
          }
        }
      ]
    },
    {
      "cell_type": "code",
      "metadata": {
        "id": "UBDXrSU4MxV9",
        "colab_type": "code",
        "colab": {}
      },
      "source": [
        ""
      ],
      "execution_count": null,
      "outputs": []
    }
  ]
}