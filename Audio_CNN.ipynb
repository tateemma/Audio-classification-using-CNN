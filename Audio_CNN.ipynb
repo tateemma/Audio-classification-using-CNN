{
  "nbformat": 4,
  "nbformat_minor": 0,
  "metadata": {
    "colab": {
      "name": "Audio CNN.ipynb",
      "provenance": [],
      "collapsed_sections": [],
      "include_colab_link": true
    },
    "kernelspec": {
      "name": "python3",
      "display_name": "Python 3"
    },
    "accelerator": "GPU"
  },
  "cells": [
    {
      "cell_type": "markdown",
      "metadata": {
        "id": "view-in-github",
        "colab_type": "text"
      },
      "source": [
        "<a href=\"https://colab.research.google.com/github/tateemma/Audio-classification-using-CNN/blob/master/Audio_CNN.ipynb\" target=\"_parent\"><img src=\"https://colab.research.google.com/assets/colab-badge.svg\" alt=\"Open In Colab\"/></a>"
      ]
    },
    {
      "cell_type": "markdown",
      "metadata": {
        "id": "APi2ts7DT791",
        "colab_type": "text"
      },
      "source": [
        "**Credits:** This was achieved through the help of Dr. Emmanuel Dufourq, for a presentation in his Data Science class."
      ]
    },
    {
      "cell_type": "markdown",
      "metadata": {
        "id": "dN_ekw71qVaA",
        "colab_type": "text"
      },
      "source": [
        "## Imports"
      ]
    },
    {
      "cell_type": "code",
      "metadata": {
        "id": "JPOpM24ySGr3",
        "colab_type": "code",
        "colab": {
          "base_uri": "https://localhost:8080/",
          "height": 34
        },
        "outputId": "2e0f2217-a5cb-4b4e-b80d-f903bf9654f1"
      },
      "source": [
        "import pandas as pd\n",
        "import numpy as np\n",
        "import matplotlib.pyplot as plt\n",
        "import librosa\n",
        "import librosa.display\n",
        "from os import listdir\n",
        "from sklearn.model_selection import train_test_split\n",
        "import keras\n",
        "from keras.utils import to_categorical\n",
        "from keras.models import Sequential\n",
        "from keras.layers import Dense, Dropout, Flatten, Conv2D,  MaxPooling2D \n",
        "from sklearn.metrics import accuracy_score, confusion_matrix\n",
        "from keras.callbacks import ModelCheckpoint\n",
        "import IPython.display as ipd\n",
        "\n",
        "from pydrive.auth import GoogleAuth\n",
        "from pydrive.drive import GoogleDrive\n",
        "from google.colab import auth\n",
        "from oauth2client.client import GoogleCredentials\n",
        "import zipfile, os\n",
        "\n",
        "%tensorflow_version 1.x\n",
        "import tensorflow as tf\n",
        "#print(tf.__version__)"
      ],
      "execution_count": 271,
      "outputs": [
        {
          "output_type": "stream",
          "text": [
            "TensorFlow is already loaded. Please restart the runtime to change versions.\n"
          ],
          "name": "stdout"
        }
      ]
    },
    {
      "cell_type": "markdown",
      "metadata": {
        "id": "p2HAEaApVfhQ",
        "colab_type": "text"
      },
      "source": [
        "## Authenticate to your Google Drive"
      ]
    },
    {
      "cell_type": "code",
      "metadata": {
        "id": "iqdmd0PxUcqg",
        "colab_type": "code",
        "colab": {}
      },
      "source": [
        "auth.authenticate_user()\n",
        "gauth = GoogleAuth()\n",
        "gauth.credentials = GoogleCredentials.get_application_default()\n",
        "drive = GoogleDrive(gauth)"
      ],
      "execution_count": 272,
      "outputs": []
    },
    {
      "cell_type": "code",
      "metadata": {
        "id": "waT8ATufvOuo",
        "colab_type": "code",
        "colab": {}
      },
      "source": [
        ""
      ],
      "execution_count": 272,
      "outputs": []
    },
    {
      "cell_type": "markdown",
      "metadata": {
        "id": "W8HSVC22Vixo",
        "colab_type": "text"
      },
      "source": [
        "## Download the archive file which will be uncompressed to your Drive\n",
        "\n",
        "This snippet of code will uncompress the files into a temporary folder location. In this case it is called `local_location`. We need to be consistent with names as when reading the data we will need to specify this folder name."
      ]
    },
    {
      "cell_type": "code",
      "metadata": {
        "id": "FAtlf6QEUoof",
        "colab_type": "code",
        "colab": {
          "base_uri": "https://localhost:8080/",
          "height": 34
        },
        "outputId": "3d18214a-89e0-4671-d261-d6eaa360e90b"
      },
      "source": [
        "myzip = drive.CreateFile({'id': '1wKDQrkcMGpEmGh_14Itja3ZkR7OX38s2'})\n",
        "myzip.GetContentFile('Archive.zip')\n",
        "\n",
        "print (\"Uncompressing zip file\")\n",
        "zip_ref = zipfile.ZipFile('Archive.zip', 'r')\n",
        "zip_ref.extractall('local_location/')"
      ],
      "execution_count": 273,
      "outputs": [
        {
          "output_type": "stream",
          "text": [
            "Uncompressing zip file\n"
          ],
          "name": "stdout"
        }
      ]
    },
    {
      "cell_type": "markdown",
      "metadata": {
        "id": "abimdWMiRiCU",
        "colab_type": "text"
      },
      "source": [
        "## Function to extract features and targets from a directory"
      ]
    },
    {
      "cell_type": "code",
      "metadata": {
        "id": "ApsWi7lZRiCV",
        "colab_type": "code",
        "colab": {}
      },
      "source": [
        "def extract_data_from_multiple_files(directory, label):\n",
        "    \n",
        "    # Directory listing\n",
        "    file_names = load_data(directory)\n",
        "    \n",
        "    # Create empty list to store features and target\n",
        "    X = []\n",
        "    Y = []\n",
        "    \n",
        "    num_files = len(file_names)\n",
        "    \n",
        "    # Iterate over the .wav files\n",
        "    for idx, file in enumerate(file_names):\n",
        "\n",
        "        if idx%100 == 0:\n",
        "            print (str(idx)+str(' files read out of ') + str(num_files))\n",
        "            \n",
        "        # Extract data from one audio file\n",
        "        data, sample_rate = librosa.load(directory+file)\n",
        "        \n",
        "        if len(data) == 22050:\n",
        "        \n",
        "            # Append the features and target\n",
        "            X.append(data)\n",
        "            Y.append(label)\n",
        "        \n",
        "    # Return the features and target as a Numpy array\n",
        "    return np.array(X), np.array(Y)"
      ],
      "execution_count": 274,
      "outputs": []
    },
    {
      "cell_type": "markdown",
      "metadata": {
        "id": "XDa1mWN3RiCL",
        "colab_type": "text"
      },
      "source": [
        "## Function to get a list of .wav files\n",
        "\n",
        "This function gets a list of all the files containing '.wav' in the file name."
      ]
    },
    {
      "cell_type": "code",
      "metadata": {
        "id": "s5TNAIAYRiCN",
        "colab_type": "code",
        "colab": {}
      },
      "source": [
        "def load_data(directory):\n",
        "    \n",
        "    file_names = []\n",
        "    \n",
        "    # Iterate through each file in the directory\n",
        "    for file in listdir(directory):\n",
        "        # Check file name contains .wav\n",
        "        if '.wav' in file:\n",
        "            # Append the file name\n",
        "            file_names.append(file)\n",
        "            \n",
        "    return file_names"
      ],
      "execution_count": 275,
      "outputs": []
    },
    {
      "cell_type": "code",
      "metadata": {
        "id": "XntoWXTxEQkZ",
        "colab_type": "code",
        "colab": {
          "base_uri": "https://localhost:8080/",
          "height": 34
        },
        "outputId": "f422373c-c718-4760-d85e-235c810a0ff6"
      },
      "source": [
        "listdir('local_location')"
      ],
      "execution_count": 276,
      "outputs": [
        {
          "output_type": "execute_result",
          "data": {
            "text/plain": [
              "['bird', 'dog', 'on', '__MACOSX', 'off']"
            ]
          },
          "metadata": {
            "tags": []
          },
          "execution_count": 276
        }
      ]
    },
    {
      "cell_type": "markdown",
      "metadata": {
        "id": "jdFSk3T3VI_x",
        "colab_type": "text"
      },
      "source": [
        "## Load all the `dog` files into memory\n",
        "\n",
        "Roughly 6.5 minute operation"
      ]
    },
    {
      "cell_type": "code",
      "metadata": {
        "id": "Rtwn-a_gRiBC",
        "colab_type": "code",
        "colab": {
          "base_uri": "https://localhost:8080/",
          "height": 330
        },
        "outputId": "cbd6e289-9089-47de-9b54-65bd67af8389"
      },
      "source": [
        "X_dog, Y_dog = extract_data_from_multiple_files('local_location/dog/', 'dog')"
      ],
      "execution_count": 277,
      "outputs": [
        {
          "output_type": "stream",
          "text": [
            "0 files read out of 1746\n",
            "100 files read out of 1746\n",
            "200 files read out of 1746\n",
            "300 files read out of 1746\n",
            "400 files read out of 1746\n",
            "500 files read out of 1746\n",
            "600 files read out of 1746\n",
            "700 files read out of 1746\n",
            "800 files read out of 1746\n",
            "900 files read out of 1746\n",
            "1000 files read out of 1746\n",
            "1100 files read out of 1746\n",
            "1200 files read out of 1746\n",
            "1300 files read out of 1746\n",
            "1400 files read out of 1746\n",
            "1500 files read out of 1746\n",
            "1600 files read out of 1746\n",
            "1700 files read out of 1746\n"
          ],
          "name": "stdout"
        }
      ]
    },
    {
      "cell_type": "markdown",
      "metadata": {
        "id": "N_RI8HElXSRr",
        "colab_type": "text"
      },
      "source": [
        "## Load all the `bird` files into memory\n",
        "\n",
        "Roughly 5 minute operation"
      ]
    },
    {
      "cell_type": "code",
      "metadata": {
        "id": "uPAUrJrpRiBI",
        "colab_type": "code",
        "colab": {
          "base_uri": "https://localhost:8080/",
          "height": 330
        },
        "outputId": "4aa3f7be-3e92-4084-ae15-45d48c6b85fd"
      },
      "source": [
        "X_bird, Y_bird = extract_data_from_multiple_files('local_location/bird/', 'bird')"
      ],
      "execution_count": 278,
      "outputs": [
        {
          "output_type": "stream",
          "text": [
            "0 files read out of 1731\n",
            "100 files read out of 1731\n",
            "200 files read out of 1731\n",
            "300 files read out of 1731\n",
            "400 files read out of 1731\n",
            "500 files read out of 1731\n",
            "600 files read out of 1731\n",
            "700 files read out of 1731\n",
            "800 files read out of 1731\n",
            "900 files read out of 1731\n",
            "1000 files read out of 1731\n",
            "1100 files read out of 1731\n",
            "1200 files read out of 1731\n",
            "1300 files read out of 1731\n",
            "1400 files read out of 1731\n",
            "1500 files read out of 1731\n",
            "1600 files read out of 1731\n",
            "1700 files read out of 1731\n"
          ],
          "name": "stdout"
        }
      ]
    },
    {
      "cell_type": "markdown",
      "metadata": {
        "id": "9WJHpEDKYsxz",
        "colab_type": "text"
      },
      "source": [
        "## Create X and Y variables"
      ]
    },
    {
      "cell_type": "code",
      "metadata": {
        "id": "TlKlth-aRiBW",
        "colab_type": "code",
        "colab": {}
      },
      "source": [
        "X_audio = np.concatenate([X_dog, X_bird])"
      ],
      "execution_count": 279,
      "outputs": []
    },
    {
      "cell_type": "code",
      "metadata": {
        "id": "HzS8OLmVRiBZ",
        "colab_type": "code",
        "colab": {}
      },
      "source": [
        "Y_audio = np.concatenate([Y_dog, Y_bird])"
      ],
      "execution_count": 280,
      "outputs": []
    },
    {
      "cell_type": "markdown",
      "metadata": {
        "id": "9ij0e_BRYxw4",
        "colab_type": "text"
      },
      "source": [
        "## Check shape"
      ]
    },
    {
      "cell_type": "code",
      "metadata": {
        "id": "IFg8rfrzRiBd",
        "colab_type": "code",
        "colab": {
          "base_uri": "https://localhost:8080/",
          "height": 34
        },
        "outputId": "6d23b97d-5997-43b0-fc1c-a3075cfde547"
      },
      "source": [
        "X_audio.shape"
      ],
      "execution_count": 281,
      "outputs": [
        {
          "output_type": "execute_result",
          "data": {
            "text/plain": [
              "(3068, 22050)"
            ]
          },
          "metadata": {
            "tags": []
          },
          "execution_count": 281
        }
      ]
    },
    {
      "cell_type": "code",
      "metadata": {
        "id": "2PwVxpceRiBi",
        "colab_type": "code",
        "colab": {
          "base_uri": "https://localhost:8080/",
          "height": 34
        },
        "outputId": "6948741f-c1ed-47de-aa0e-8e2734c2c496"
      },
      "source": [
        "Y_audio.shape"
      ],
      "execution_count": 282,
      "outputs": [
        {
          "output_type": "execute_result",
          "data": {
            "text/plain": [
              "(3068,)"
            ]
          },
          "metadata": {
            "tags": []
          },
          "execution_count": 282
        }
      ]
    },
    {
      "cell_type": "markdown",
      "metadata": {
        "id": "ILSk24kCaKqq",
        "colab_type": "text"
      },
      "source": [
        "### View one audio before converting to spectrogram"
      ]
    },
    {
      "cell_type": "code",
      "metadata": {
        "id": "nLbcY4oWZ2Re",
        "colab_type": "code",
        "colab": {
          "base_uri": "https://localhost:8080/",
          "height": 606
        },
        "outputId": "55c828f7-01e6-437e-9020-0d060184641f"
      },
      "source": [
        "plt.figure(figsize=[12,10])\n",
        "plt.plot(X_audio[2], label = 'audio')\n",
        "plt.xlabel('time')\n",
        "plt.legend()\n",
        "plt.show()"
      ],
      "execution_count": 283,
      "outputs": [
        {
          "output_type": "display_data",
          "data": {
            "image/png": "[encoded data removed]",
            "text/plain": [
              "<Figure size 864x720 with 1 Axes>"
            ]
          },
          "metadata": {
            "tags": [],
            "needs_background": "light"
          }
        }
      ]
    },
    {
      "cell_type": "markdown",
      "metadata": {
        "id": "jF99iNnE9iV8",
        "colab_type": "text"
      },
      "source": [
        "## Function to convert to spectograms"
      ]
    },
    {
      "cell_type": "code",
      "metadata": {
        "id": "1Yi95X8Py9jW",
        "colab_type": "code",
        "colab": {}
      },
      "source": [
        "def to_spectogram(arr):\n",
        "    result = []\n",
        "    n_fft = 1024\n",
        "    hop_length = 256\n",
        "    n_mels = 128\n",
        "    f_min = 1\n",
        "    f_max = 200\n",
        "    for audio in arr:\n",
        "        audio_data = audio\n",
        "        S = librosa.feature.melspectrogram(audio_data, n_fft=n_fft, hop_length=hop_length, n_mels=n_mels, sr=22050, power=1.0)\n",
        "        result.append(S)\n",
        "    return np.asarray(result)"
      ],
      "execution_count": 284,
      "outputs": []
    },
    {
      "cell_type": "markdown",
      "metadata": {
        "id": "IBdsRo_U_OJz",
        "colab_type": "text"
      },
      "source": [
        "## Convert to spectogram"
      ]
    },
    {
      "cell_type": "code",
      "metadata": {
        "id": "PKR02Bnz_Ncw",
        "colab_type": "code",
        "colab": {}
      },
      "source": [
        "X = to_spectogram(X_audio)\n"
      ],
      "execution_count": 285,
      "outputs": []
    },
    {
      "cell_type": "code",
      "metadata": {
        "id": "cErmuxVFEUy2",
        "colab_type": "code",
        "colab": {
          "base_uri": "https://localhost:8080/",
          "height": 243
        },
        "outputId": "6163c58e-5d5e-47af-e62f-34d64ec06725"
      },
      "source": [
        "X[1]"
      ],
      "execution_count": 286,
      "outputs": [
        {
          "output_type": "execute_result",
          "data": {
            "text/plain": [
              "array([[2.32544456e-03, 2.72360039e-03, 4.11621309e-03, ...,\n",
              "        5.46527729e-03, 1.25402567e-02, 2.76845667e-02],\n",
              "       [3.21537979e-03, 6.96963749e-03, 6.48510106e-03, ...,\n",
              "        1.13412359e-02, 1.11483232e-02, 2.84082312e-02],\n",
              "       [3.76729100e-03, 8.79417494e-03, 8.13232321e-03, ...,\n",
              "        1.36855477e-02, 1.65512174e-02, 3.80918482e-02],\n",
              "       ...,\n",
              "       [1.91557317e-05, 9.57779616e-06, 3.18575717e-10, ...,\n",
              "        5.57009058e-09, 1.14142413e-04, 2.82835264e-04],\n",
              "       [1.89228813e-05, 9.46137332e-06, 3.35173024e-10, ...,\n",
              "        4.07747334e-09, 1.12505953e-04, 2.78780114e-04],\n",
              "       [1.87760773e-05, 9.38797389e-06, 4.20877338e-10, ...,\n",
              "        4.59671549e-09, 1.11484572e-04, 2.76249222e-04]])"
            ]
          },
          "metadata": {
            "tags": []
          },
          "execution_count": 286
        }
      ]
    },
    {
      "cell_type": "markdown",
      "metadata": {
        "id": "Z8AVIs2L-XWW",
        "colab_type": "text"
      },
      "source": [
        "## View X after changing to spectograms"
      ]
    },
    {
      "cell_type": "code",
      "metadata": {
        "id": "lBd3lcZNy-Bo",
        "colab_type": "code",
        "colab": {
          "base_uri": "https://localhost:8080/",
          "height": 34
        },
        "outputId": "f9bc50ba-1b1f-46d0-d933-9bdba8dd321b"
      },
      "source": [
        "X[2].shape"
      ],
      "execution_count": 287,
      "outputs": [
        {
          "output_type": "execute_result",
          "data": {
            "text/plain": [
              "(128, 87)"
            ]
          },
          "metadata": {
            "tags": []
          },
          "execution_count": 287
        }
      ]
    },
    {
      "cell_type": "code",
      "metadata": {
        "id": "RUhjij_VIvtI",
        "colab_type": "code",
        "colab": {
          "base_uri": "https://localhost:8080/",
          "height": 34
        },
        "outputId": "84df0aac-824c-41d2-e5e4-b46580860b58"
      },
      "source": [
        "type(X)"
      ],
      "execution_count": 288,
      "outputs": [
        {
          "output_type": "execute_result",
          "data": {
            "text/plain": [
              "numpy.ndarray"
            ]
          },
          "metadata": {
            "tags": []
          },
          "execution_count": 288
        }
      ]
    },
    {
      "cell_type": "code",
      "metadata": {
        "id": "GoylwXoxAgUI",
        "colab_type": "code",
        "colab": {
          "base_uri": "https://localhost:8080/",
          "height": 34
        },
        "outputId": "5992a169-e3f5-4e1b-d595-b1c4c34ae519"
      },
      "source": [
        "X.shape"
      ],
      "execution_count": 289,
      "outputs": [
        {
          "output_type": "execute_result",
          "data": {
            "text/plain": [
              "(3068, 128, 87)"
            ]
          },
          "metadata": {
            "tags": []
          },
          "execution_count": 289
        }
      ]
    },
    {
      "cell_type": "markdown",
      "metadata": {
        "id": "fAdDAgyH-fjm",
        "colab_type": "text"
      },
      "source": [
        "## Plot sample spectograms"
      ]
    },
    {
      "cell_type": "code",
      "metadata": {
        "id": "Htr8BWX2y-cR",
        "colab_type": "code",
        "colab": {
          "base_uri": "https://localhost:8080/",
          "height": 309
        },
        "outputId": "a18fc73f-8c36-4c2b-f4b7-9af21530ee85"
      },
      "source": [
        "plt.figure(figsize=[7,5])\n",
        "ax = plt.axes()\n",
        "librosa.display.specshow(librosa.power_to_db(X[2]),y_axis='mel')\n",
        "plt.show()"
      ],
      "execution_count": 290,
      "outputs": [
        {
          "output_type": "display_data",
          "data": {
            "image/png": "[encoded data removed]",
            "text/plain": [
              "<Figure size 504x360 with 1 Axes>"
            ]
          },
          "metadata": {
            "tags": [],
            "needs_background": "light"
          }
        }
      ]
    },
    {
      "cell_type": "code",
      "metadata": {
        "id": "Zr4jQoyP8LYt",
        "colab_type": "code",
        "colab": {}
      },
      "source": [
        ""
      ],
      "execution_count": 290,
      "outputs": []
    },
    {
      "cell_type": "markdown",
      "metadata": {
        "id": "XNHKE3XwZb-Z",
        "colab_type": "text"
      },
      "source": [
        "## Convert Y values using one-hot encoding\n",
        "\n",
        "First we need to convert the Y values into integers."
      ]
    },
    {
      "cell_type": "code",
      "metadata": {
        "id": "-gpDoo4ZRiCZ",
        "colab_type": "code",
        "colab": {}
      },
      "source": [
        "vocab, inv = np.unique(Y_audio, return_inverse=True)"
      ],
      "execution_count": 291,
      "outputs": []
    },
    {
      "cell_type": "code",
      "metadata": {
        "id": "usUHObs0RiCX",
        "colab_type": "code",
        "colab": {
          "base_uri": "https://localhost:8080/",
          "height": 34
        },
        "outputId": "20cdb524-632b-4554-aa81-2b6f295d5ddb"
      },
      "source": [
        "vocab"
      ],
      "execution_count": 292,
      "outputs": [
        {
          "output_type": "execute_result",
          "data": {
            "text/plain": [
              "array(['bird', 'dog'], dtype='<U4')"
            ]
          },
          "metadata": {
            "tags": []
          },
          "execution_count": 292
        }
      ]
    },
    {
      "cell_type": "code",
      "metadata": {
        "id": "4AISbGhCRiCf",
        "colab_type": "code",
        "colab": {}
      },
      "source": [
        "Y = to_categorical(inv)"
      ],
      "execution_count": 293,
      "outputs": []
    },
    {
      "cell_type": "markdown",
      "metadata": {
        "id": "fsAqZtvOZktB",
        "colab_type": "text"
      },
      "source": [
        "## Reshape X values\n",
        "Keras wants to know the depth of the spectrum, i.e. it wants the format of the data as follows: [batches, width, height, depth]."
      ]
    },
    {
      "cell_type": "code",
      "metadata": {
        "id": "vPVPXZBsRiCc",
        "colab_type": "code",
        "colab": {}
      },
      "source": [
        "X = np.reshape(X, (X.shape[0],X.shape[1],X.shape[2],1))"
      ],
      "execution_count": 294,
      "outputs": []
    },
    {
      "cell_type": "code",
      "metadata": {
        "colab_type": "code",
        "id": "VdA2VlHqO1TZ",
        "colab": {}
      },
      "source": [
        "Y = to_categorical(inv)"
      ],
      "execution_count": 295,
      "outputs": []
    },
    {
      "cell_type": "markdown",
      "metadata": {
        "id": "tXLWEAcdZ1S7",
        "colab_type": "text"
      },
      "source": [
        "## Check shape"
      ]
    },
    {
      "cell_type": "code",
      "metadata": {
        "id": "MpLMzMURRiCi",
        "colab_type": "code",
        "colab": {
          "base_uri": "https://localhost:8080/",
          "height": 34
        },
        "outputId": "52b7a515-5c78-489a-ddf2-367508a54fc0"
      },
      "source": [
        "X.shape"
      ],
      "execution_count": 296,
      "outputs": [
        {
          "output_type": "execute_result",
          "data": {
            "text/plain": [
              "(3068, 128, 87, 1)"
            ]
          },
          "metadata": {
            "tags": []
          },
          "execution_count": 296
        }
      ]
    },
    {
      "cell_type": "code",
      "metadata": {
        "id": "HlkpPSpuRiCs",
        "colab_type": "code",
        "colab": {
          "base_uri": "https://localhost:8080/",
          "height": 34
        },
        "outputId": "2e2aecd8-ae29-4980-8654-6c62c5fb148e"
      },
      "source": [
        "Y.shape"
      ],
      "execution_count": 297,
      "outputs": [
        {
          "output_type": "execute_result",
          "data": {
            "text/plain": [
              "(3068, 2)"
            ]
          },
          "metadata": {
            "tags": []
          },
          "execution_count": 297
        }
      ]
    },
    {
      "cell_type": "markdown",
      "metadata": {
        "id": "ZFC4ycJmZ2tU",
        "colab_type": "text"
      },
      "source": [
        "## Split into training, validation and testing"
      ]
    },
    {
      "cell_type": "code",
      "metadata": {
        "id": "0TlUcGy4RiCu",
        "colab_type": "code",
        "colab": {}
      },
      "source": [
        "X_train, X_test, Y_train, Y_test = train_test_split(X, Y, test_size=0.35, random_state=42, shuffle=True)\n",
        "X_train, X_val, Y_train, Y_val = train_test_split(X_train, Y_train, test_size=0.3, random_state=42)"
      ],
      "execution_count": 298,
      "outputs": []
    },
    {
      "cell_type": "markdown",
      "metadata": {
        "id": "ygUKZvrlZ4zA",
        "colab_type": "text"
      },
      "source": [
        "## Check shape"
      ]
    },
    {
      "cell_type": "code",
      "metadata": {
        "id": "vqgfBhknRiCw",
        "colab_type": "code",
        "colab": {
          "base_uri": "https://localhost:8080/",
          "height": 156
        },
        "outputId": "fbe3e06f-d13f-4039-f26a-8639a25126c0"
      },
      "source": [
        "print ('X_train:',X_train.shape)\n",
        "print ('Y_train:',Y_train.shape)\n",
        "print ()\n",
        "print ('X_val:',X_val.shape)\n",
        "print ('Y_val:',Y_val.shape)\n",
        "print ()\n",
        "print ('X_test:',X_test.shape)\n",
        "print ('Y_test:',Y_test.shape)"
      ],
      "execution_count": 299,
      "outputs": [
        {
          "output_type": "stream",
          "text": [
            "X_train: (1395, 128, 87, 1)\n",
            "Y_train: (1395, 2)\n",
            "\n",
            "X_val: (599, 128, 87, 1)\n",
            "Y_val: (599, 2)\n",
            "\n",
            "X_test: (1074, 128, 87, 1)\n",
            "Y_test: (1074, 2)\n"
          ],
          "name": "stdout"
        }
      ]
    },
    {
      "cell_type": "markdown",
      "metadata": {
        "id": "IrXoKha3Z_jU",
        "colab_type": "text"
      },
      "source": [
        "## Define a model"
      ]
    },
    {
      "cell_type": "code",
      "metadata": {
        "id": "LJi88Vi2RiCy",
        "colab_type": "code",
        "colab": {}
      },
      "source": [
        "def model():\n",
        "    model = Sequential()\n",
        "    \n",
        "    model.add(Conv2D(filters=32, kernel_size=3, padding='valid', activation='relu', input_shape=(128, 87, 1))) \n",
        "    \n",
        "    model.add(MaxPooling2D(pool_size=2))\n",
        "\n",
        "    model.add(Dropout(rate = 0.8))\n",
        "    \n",
        "    model.add(Flatten())\n",
        "    \n",
        "    model.add(Dense(50, activation='relu'))\n",
        "    \n",
        "    model.add(Dropout(rate = 0.8))\n",
        "    \n",
        "    model.add(Dense(2, activation='softmax'))\n",
        "    \n",
        "    return model"
      ],
      "execution_count": 300,
      "outputs": []
    },
    {
      "cell_type": "code",
      "metadata": {
        "id": "gbcZLP8tRiC0",
        "colab_type": "code",
        "colab": {}
      },
      "source": [
        "model = model()"
      ],
      "execution_count": 301,
      "outputs": []
    },
    {
      "cell_type": "markdown",
      "metadata": {
        "id": "g6-PhXC9aBqY",
        "colab_type": "text"
      },
      "source": [
        "## Compile"
      ]
    },
    {
      "cell_type": "code",
      "metadata": {
        "id": "y4qj0ZW2RiC2",
        "colab_type": "code",
        "colab": {}
      },
      "source": [
        "model.compile(loss='categorical_crossentropy', optimizer='adam',metrics=['accuracy'])"
      ],
      "execution_count": 302,
      "outputs": []
    },
    {
      "cell_type": "markdown",
      "metadata": {
        "id": "2486W0DKaCjn",
        "colab_type": "text"
      },
      "source": [
        "## Print out the model summary"
      ]
    },
    {
      "cell_type": "code",
      "metadata": {
        "id": "j0Uc5qthRiC4",
        "colab_type": "code",
        "colab": {
          "base_uri": "https://localhost:8080/",
          "height": 399
        },
        "outputId": "cbce373f-1b1f-4e4a-81ac-6e15b4766408"
      },
      "source": [
        "model.summary()"
      ],
      "execution_count": 303,
      "outputs": [
        {
          "output_type": "stream",
          "text": [
            "Model: \"sequential_5\"\n",
            "_________________________________________________________________\n",
            "Layer (type)                 Output Shape              Param #   \n",
            "=================================================================\n",
            "conv2d_5 (Conv2D)            (None, 126, 85, 32)       320       \n",
            "_________________________________________________________________\n",
            "max_pooling2d_5 (MaxPooling2 (None, 63, 42, 32)        0         \n",
            "_________________________________________________________________\n",
            "dropout_10 (Dropout)         (None, 63, 42, 32)        0         \n",
            "_________________________________________________________________\n",
            "flatten_5 (Flatten)          (None, 84672)             0         \n",
            "_________________________________________________________________\n",
            "dense_10 (Dense)             (None, 50)                4233650   \n",
            "_________________________________________________________________\n",
            "dropout_11 (Dropout)         (None, 50)                0         \n",
            "_________________________________________________________________\n",
            "dense_11 (Dense)             (None, 2)                 102       \n",
            "=================================================================\n",
            "Total params: 4,234,072\n",
            "Trainable params: 4,234,072\n",
            "Non-trainable params: 0\n",
            "_________________________________________________________________\n"
          ],
          "name": "stdout"
        }
      ]
    },
    {
      "cell_type": "markdown",
      "metadata": {
        "id": "sezhtscwaEdn",
        "colab_type": "text"
      },
      "source": [
        "## Create checkpoint\n",
        "\n",
        "Here we create a checkpoint so that Keras will save the weights of the next best model. In this case, an improvement in validation accuracy is what it will consider as next best."
      ]
    },
    {
      "cell_type": "code",
      "metadata": {
        "id": "l5cnj4o_RiC7",
        "colab_type": "code",
        "colab": {}
      },
      "source": [
        "filepath=\"weights.best\"\n",
        "checkpoint = ModelCheckpoint(filepath, monitor='val_accuracy',verbose=1, save_best_only=True, mode='max')\n",
        "callbacks_list = [checkpoint]"
      ],
      "execution_count": 304,
      "outputs": []
    },
    {
      "cell_type": "markdown",
      "metadata": {
        "id": "n701v_PcaPfZ",
        "colab_type": "text"
      },
      "source": [
        "## Train the model\n",
        "\n",
        "Notice here, we can specify a class balance!"
      ]
    },
    {
      "cell_type": "code",
      "metadata": {
        "scrolled": true,
        "id": "UG4JqEMGRiC8",
        "colab_type": "code",
        "colab": {
          "base_uri": "https://localhost:8080/",
          "height": 1000
        },
        "outputId": "4954d07d-03a5-4dc2-acdb-60460e5ab9c6"
      },
      "source": [
        "history = model.fit(X_train, Y_train, validation_data=(X_val, Y_val), \n",
        "          batch_size=4,\n",
        "          epochs=20,\n",
        "          verbose=1, \n",
        "          callbacks=callbacks_list,\n",
        "          class_weight={0:1.,1:1.0})"
      ],
      "execution_count": 305,
      "outputs": [
        {
          "output_type": "stream",
          "text": [
            "Epoch 1/20\n",
            "345/349 [============================>.] - ETA: 0s - loss: 0.5910 - accuracy: 0.7167\n",
            "Epoch 00001: val_accuracy improved from -inf to 0.91987, saving model to weights.best\n",
            "INFO:tensorflow:Assets written to: weights.best/assets\n",
            "349/349 [==============================] - 3s 7ms/step - loss: 0.5875 - accuracy: 0.7176 - val_loss: 0.3167 - val_accuracy: 0.9199\n",
            "Epoch 2/20\n",
            "343/349 [============================>.] - ETA: 0s - loss: 0.3778 - accuracy: 0.8630\n",
            "Epoch 00002: val_accuracy improved from 0.91987 to 0.95659, saving model to weights.best\n",
            "INFO:tensorflow:Assets written to: weights.best/assets\n",
            "349/349 [==============================] - 2s 7ms/step - loss: 0.3761 - accuracy: 0.8631 - val_loss: 0.2587 - val_accuracy: 0.9566\n",
            "Epoch 3/20\n",
            "345/349 [============================>.] - ETA: 0s - loss: 0.3600 - accuracy: 0.8797\n",
            "Epoch 00003: val_accuracy did not improve from 0.95659\n",
            "349/349 [==============================] - 2s 5ms/step - loss: 0.3589 - accuracy: 0.8796 - val_loss: 0.2787 - val_accuracy: 0.9265\n",
            "Epoch 4/20\n",
            "346/349 [============================>.] - ETA: 0s - loss: 0.3055 - accuracy: 0.8981\n",
            "Epoch 00004: val_accuracy did not improve from 0.95659\n",
            "349/349 [==============================] - 2s 5ms/step - loss: 0.3062 - accuracy: 0.8982 - val_loss: 0.2375 - val_accuracy: 0.9416\n",
            "Epoch 5/20\n",
            "349/349 [==============================] - ETA: 0s - loss: 0.2704 - accuracy: 0.9125\n",
            "Epoch 00005: val_accuracy did not improve from 0.95659\n",
            "349/349 [==============================] - 2s 5ms/step - loss: 0.2704 - accuracy: 0.9125 - val_loss: 0.3059 - val_accuracy: 0.9432\n",
            "Epoch 6/20\n",
            "344/349 [============================>.] - ETA: 0s - loss: 0.2580 - accuracy: 0.9157\n",
            "Epoch 00006: val_accuracy did not improve from 0.95659\n",
            "349/349 [==============================] - 2s 5ms/step - loss: 0.2569 - accuracy: 0.9154 - val_loss: 0.2517 - val_accuracy: 0.9566\n",
            "Epoch 7/20\n",
            "345/349 [============================>.] - ETA: 0s - loss: 0.2666 - accuracy: 0.9174\n",
            "Epoch 00007: val_accuracy improved from 0.95659 to 0.95826, saving model to weights.best\n",
            "INFO:tensorflow:Assets written to: weights.best/assets\n",
            "349/349 [==============================] - 2s 6ms/step - loss: 0.2655 - accuracy: 0.9176 - val_loss: 0.2399 - val_accuracy: 0.9583\n",
            "Epoch 8/20\n",
            "335/349 [===========================>..] - ETA: 0s - loss: 0.2551 - accuracy: 0.9179\n",
            "Epoch 00008: val_accuracy did not improve from 0.95826\n",
            "349/349 [==============================] - 2s 5ms/step - loss: 0.2510 - accuracy: 0.9183 - val_loss: 0.2339 - val_accuracy: 0.9566\n",
            "Epoch 9/20\n",
            "341/349 [============================>.] - ETA: 0s - loss: 0.2553 - accuracy: 0.9216\n",
            "Epoch 00009: val_accuracy improved from 0.95826 to 0.95993, saving model to weights.best\n",
            "INFO:tensorflow:Assets written to: weights.best/assets\n",
            "349/349 [==============================] - 2s 6ms/step - loss: 0.2546 - accuracy: 0.9211 - val_loss: 0.2233 - val_accuracy: 0.9599\n",
            "Epoch 10/20\n",
            "341/349 [============================>.] - ETA: 0s - loss: 0.2417 - accuracy: 0.9223\n",
            "Epoch 00010: val_accuracy did not improve from 0.95993\n",
            "349/349 [==============================] - 2s 5ms/step - loss: 0.2386 - accuracy: 0.9240 - val_loss: 0.2278 - val_accuracy: 0.9482\n",
            "Epoch 11/20\n",
            "336/349 [===========================>..] - ETA: 0s - loss: 0.2454 - accuracy: 0.9256\n",
            "Epoch 00011: val_accuracy did not improve from 0.95993\n",
            "349/349 [==============================] - 2s 5ms/step - loss: 0.2467 - accuracy: 0.9247 - val_loss: 0.2157 - val_accuracy: 0.9482\n",
            "Epoch 12/20\n",
            "345/349 [============================>.] - ETA: 0s - loss: 0.2405 - accuracy: 0.9167\n",
            "Epoch 00012: val_accuracy did not improve from 0.95993\n",
            "349/349 [==============================] - 2s 5ms/step - loss: 0.2416 - accuracy: 0.9154 - val_loss: 0.2159 - val_accuracy: 0.9382\n",
            "Epoch 13/20\n",
            "336/349 [===========================>..] - ETA: 0s - loss: 0.2093 - accuracy: 0.9234\n",
            "Epoch 00013: val_accuracy did not improve from 0.95993\n",
            "349/349 [==============================] - 2s 4ms/step - loss: 0.2079 - accuracy: 0.9226 - val_loss: 0.2080 - val_accuracy: 0.9549\n",
            "Epoch 14/20\n",
            "344/349 [============================>.] - ETA: 0s - loss: 0.2028 - accuracy: 0.9302\n",
            "Epoch 00014: val_accuracy improved from 0.95993 to 0.96327, saving model to weights.best\n",
            "INFO:tensorflow:Assets written to: weights.best/assets\n",
            "349/349 [==============================] - 2s 6ms/step - loss: 0.2061 - accuracy: 0.9290 - val_loss: 0.1964 - val_accuracy: 0.9633\n",
            "Epoch 15/20\n",
            "339/349 [============================>.] - ETA: 0s - loss: 0.2375 - accuracy: 0.9366\n",
            "Epoch 00015: val_accuracy did not improve from 0.96327\n",
            "349/349 [==============================] - 2s 5ms/step - loss: 0.2347 - accuracy: 0.9369 - val_loss: 0.2004 - val_accuracy: 0.9466\n",
            "Epoch 16/20\n",
            "348/349 [============================>.] - ETA: 0s - loss: 0.2333 - accuracy: 0.9303\n",
            "Epoch 00016: val_accuracy did not improve from 0.96327\n",
            "349/349 [==============================] - 2s 5ms/step - loss: 0.2328 - accuracy: 0.9305 - val_loss: 0.2227 - val_accuracy: 0.9616\n",
            "Epoch 17/20\n",
            "348/349 [============================>.] - ETA: 0s - loss: 0.2003 - accuracy: 0.9332\n",
            "Epoch 00017: val_accuracy did not improve from 0.96327\n",
            "349/349 [==============================] - 2s 4ms/step - loss: 0.2002 - accuracy: 0.9333 - val_loss: 0.1850 - val_accuracy: 0.9633\n",
            "Epoch 18/20\n",
            "349/349 [==============================] - ETA: 0s - loss: 0.2056 - accuracy: 0.9254\n",
            "Epoch 00018: val_accuracy did not improve from 0.96327\n",
            "349/349 [==============================] - 2s 5ms/step - loss: 0.2056 - accuracy: 0.9254 - val_loss: 0.2061 - val_accuracy: 0.9549\n",
            "Epoch 19/20\n",
            "336/349 [===========================>..] - ETA: 0s - loss: 0.1847 - accuracy: 0.9323\n",
            "Epoch 00019: val_accuracy improved from 0.96327 to 0.96494, saving model to weights.best\n",
            "INFO:tensorflow:Assets written to: weights.best/assets\n",
            "349/349 [==============================] - 2s 6ms/step - loss: 0.1868 - accuracy: 0.9319 - val_loss: 0.1877 - val_accuracy: 0.9649\n",
            "Epoch 20/20\n",
            "342/349 [============================>.] - ETA: 0s - loss: 0.1995 - accuracy: 0.9269\n",
            "Epoch 00020: val_accuracy did not improve from 0.96494\n",
            "349/349 [==============================] - 2s 5ms/step - loss: 0.1996 - accuracy: 0.9269 - val_loss: 0.2091 - val_accuracy: 0.9482\n"
          ],
          "name": "stdout"
        }
      ]
    },
    {
      "cell_type": "markdown",
      "metadata": {
        "id": "ZpLGQtL_aTtJ",
        "colab_type": "text"
      },
      "source": [
        "## Load the weights of the best model"
      ]
    },
    {
      "cell_type": "code",
      "metadata": {
        "id": "S98z3wE-RiC-",
        "colab_type": "code",
        "colab": {
          "base_uri": "https://localhost:8080/",
          "height": 34
        },
        "outputId": "cf2142ff-01e3-4044-f179-257d4b1f923b"
      },
      "source": [
        "model.load_weights('weights.best/variables/variables')"
      ],
      "execution_count": 306,
      "outputs": [
        {
          "output_type": "execute_result",
          "data": {
            "text/plain": [
              "<tensorflow.python.training.tracking.util.CheckpointLoadStatus at 0x7fe5be390780>"
            ]
          },
          "metadata": {
            "tags": []
          },
          "execution_count": 306
        }
      ]
    },
    {
      "cell_type": "markdown",
      "metadata": {
        "id": "H0GU6sB6fWtm",
        "colab_type": "text"
      },
      "source": [
        "## Evaluating the model\n",
        "\n",
        "On data that was not used during training"
      ]
    },
    {
      "cell_type": "code",
      "metadata": {
        "id": "jFp7T_xoHyAv",
        "colab_type": "code",
        "colab": {}
      },
      "source": [
        "prediction_classes_test = model.predict_classes(X_test)"
      ],
      "execution_count": 307,
      "outputs": []
    },
    {
      "cell_type": "markdown",
      "metadata": {
        "colab_type": "text",
        "id": "7LnIZhO0AZ-H"
      },
      "source": [
        "## The confusion matrix"
      ]
    },
    {
      "cell_type": "code",
      "metadata": {
        "colab_type": "code",
        "id": "nB7P53REAZ9u",
        "colab": {
          "base_uri": "https://localhost:8080/",
          "height": 52
        },
        "outputId": "477196c4-a392-42e4-c6bd-c1baab723b0a"
      },
      "source": [
        "confusion_matrix(np.argmax(Y_test,1), prediction_classes_test)"
      ],
      "execution_count": 308,
      "outputs": [
        {
          "output_type": "execute_result",
          "data": {
            "text/plain": [
              "array([[500,  20],\n",
              "       [ 40, 514]])"
            ]
          },
          "metadata": {
            "tags": []
          },
          "execution_count": 308
        }
      ]
    },
    {
      "cell_type": "markdown",
      "metadata": {
        "id": "sJJbCzFxEDLx",
        "colab_type": "text"
      },
      "source": [
        "## Predicting on validation data"
      ]
    },
    {
      "cell_type": "code",
      "metadata": {
        "id": "KFp91RkdEDSX",
        "colab_type": "code",
        "colab": {}
      },
      "source": [
        "prediction_classes_val = model.predict_classes(X_val)"
      ],
      "execution_count": 309,
      "outputs": []
    },
    {
      "cell_type": "code",
      "metadata": {
        "id": "M2nkre_t4xn7",
        "colab_type": "code",
        "colab": {
          "base_uri": "https://localhost:8080/",
          "height": 34
        },
        "outputId": "17f95d43-4497-4343-f4dc-e37ce8f45b97"
      },
      "source": [
        "# view predicted classes\n",
        "prediction_classes_val[0:10]"
      ],
      "execution_count": 310,
      "outputs": [
        {
          "output_type": "execute_result",
          "data": {
            "text/plain": [
              "array([0, 1, 0, 1, 0, 1, 1, 0, 0, 1])"
            ]
          },
          "metadata": {
            "tags": []
          },
          "execution_count": 310
        }
      ]
    },
    {
      "cell_type": "markdown",
      "metadata": {
        "colab_type": "text",
        "id": "ko5ajr6b_uWm"
      },
      "source": [
        "## Predicting on training data"
      ]
    },
    {
      "cell_type": "code",
      "metadata": {
        "colab_type": "code",
        "id": "_kiVOcai_uWa",
        "colab": {}
      },
      "source": [
        "prediction_classes_train = model.predict_classes(X_train)"
      ],
      "execution_count": 311,
      "outputs": []
    },
    {
      "cell_type": "markdown",
      "metadata": {
        "colab_type": "text",
        "id": "P30kJVfKTvMH"
      },
      "source": [
        "## Computing the accuracy\n"
      ]
    },
    {
      "cell_type": "code",
      "metadata": {
        "colab_type": "code",
        "id": "M_o-FfX8TvMK",
        "colab": {
          "base_uri": "https://localhost:8080/",
          "height": 34
        },
        "outputId": "c2496e90-6342-44b9-84fe-8590391df47b"
      },
      "source": [
        "test_accuracy = accuracy_score(np.argmax(Y_test,1), prediction_classes_test)\n",
        "train_accuracy = accuracy_score(np.argmax(Y_train,1), prediction_classes_train)\n",
        "val_accuracy = accuracy_score(np.argmax(Y_val,1), prediction_classes_val)\n",
        "print(test_accuracy, train_accuracy, val_accuracy)"
      ],
      "execution_count": 312,
      "outputs": [
        {
          "output_type": "stream",
          "text": [
            "0.9441340782122905 0.9720430107526882 0.9649415692821369\n"
          ],
          "name": "stdout"
        }
      ]
    },
    {
      "cell_type": "markdown",
      "metadata": {
        "id": "74HVbElsaATP",
        "colab_type": "text"
      },
      "source": [
        "## Plotting the performance\n"
      ]
    },
    {
      "cell_type": "code",
      "metadata": {
        "id": "-VW19MsALRYe",
        "colab_type": "code",
        "colab": {
          "base_uri": "https://localhost:8080/",
          "height": 513
        },
        "outputId": "29f24ffa-3420-46d8-db9b-aa2a888d49be"
      },
      "source": [
        "fig_size = plt.rcParams[\"figure.figsize\"]\n",
        "plt.rcParams[\"figure.figsize\"] = [10, 8]\n",
        "fig, axes = plt.subplots(nrows=1, ncols=1, sharex=True)\n",
        "\n",
        "plt.plot(history.history['accuracy'])\n",
        "plt.plot(history.history['val_accuracy'])\n",
        "plt.title('Training Performance')\n",
        "plt.ylabel('Accuracy')\n",
        "plt.xlabel('Epochs')\n",
        "plt.legend(['Train', 'Validation'], loc='best')\n",
        "\n",
        "plt.draw()\n",
        "plt.show()"
      ],
      "execution_count": 313,
      "outputs": [
        {
          "output_type": "display_data",
          "data": {
            "image/png": "[encoded data removed]",
            "text/plain": [
              "<Figure size 720x576 with 1 Axes>"
            ]
          },
          "metadata": {
            "tags": [],
            "needs_background": "light"
          }
        }
      ]
    },
    {
      "cell_type": "code",
      "metadata": {
        "id": "UBDXrSU4MxV9",
        "colab_type": "code",
        "colab": {}
      },
      "source": [
        ""
      ],
      "execution_count": 313,
      "outputs": []
    }
  ]
}